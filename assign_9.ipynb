{
 "metadata": {
  "language_info": {
   "codemirror_mode": {
    "name": "ipython",
    "version": 3
   },
   "file_extension": ".py",
   "mimetype": "text/x-python",
   "name": "python",
   "nbconvert_exporter": "python",
   "pygments_lexer": "ipython3",
   "version": 3
  },
  "orig_nbformat": 2,
  "kernelspec": {
   "name": "python_defaultSpec_1595503863172",
   "display_name": "Python 3.8.3 32-bit"
  }
 },
 "nbformat": 4,
 "nbformat_minor": 2,
 "cells": [
  {
   "cell_type": "code",
   "execution_count": 61,
   "metadata": {
    "tags": []
   },
   "outputs": [
    {
     "output_type": "stream",
     "name": "stdout",
     "text": "{'m': 1, 'e': 1, 'r': 1, 'h': 1, 'a': 3, 'b': 1, ' ': 1, 'd': 1, 'ü': 1, 'n': 1, 'y': 1}\n"
    }
   ],
   "source": [
    "text = input(\"Please enter a sentence: \")\n",
    "dictionary = {}\n",
    "\n",
    "# print(text.count(\"h\"))\n",
    "\n",
    "for i in text:\n",
    "    dictionary[i] = text.count(i)\n",
    "print(dictionary)\n",
    "    \n",
    "\n",
    "# thisdict[\"color\"] = \"red\""
   ]
  },
  {
   "cell_type": "code",
   "execution_count": null,
   "metadata": {},
   "outputs": [],
   "source": []
  }
 ]
}