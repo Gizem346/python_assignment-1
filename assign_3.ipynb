{
 "cells": [
  {
   "cell_type": "code",
   "execution_count": null,
   "metadata": {},
   "outputs": [],
   "source": [
    "while True:\n",
    "    number = input(\"Enter a positive number: \")\n",
    "    digits = len(number)\n",
    "    summ = 0\n",
    "\n",
    "    if not number.isdigit() :\n",
    "        print(number, \"It is an invalid entry. Don't use non-numeric, float, or negative values!It is an invalid entry. Don't use non-numeric, float, or negative values!\")\n",
    "    elif int(number) >= 0:\n",
    "        for i in range(digits):\n",
    "            summ += int(number[i]) ** digits \n",
    "        if summ == int(number):\n",
    "            print(number,\"is an Armstrong number.\")\n",
    "            break\n",
    "        else:\n",
    "            print(number, \"is not an Armstrong number.\" )\n",
    "            break"
   ]
  }
 ],
 "metadata": {
  "language_info": {
   "codemirror_mode": {
    "name": "ipython",
    "version": 3
   },
   "file_extension": ".py",
   "mimetype": "text/x-python",
   "name": "python",
   "nbconvert_exporter": "python",
   "pygments_lexer": "ipython3",
   "version": 3
  },
  "orig_nbformat": 2,
  "kernelspec": {
   "name": "python_defaultSpec_1594553350311",
   "display_name": "Python 3.8.3 32-bit"
  }
 },
 "nbformat": 4,
 "nbformat_minor": 2
}