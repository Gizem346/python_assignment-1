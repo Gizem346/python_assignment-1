{
 "cells": [
  {
   "cell_type": "code",
   "execution_count": null,
   "metadata": {},
   "outputs": [],
   "source": [
    "n = int(input(\"Enter a number: \"))\n",
    "\n",
    "count = 0\n",
    "\n",
    "for i in range(1, n+1) :\n",
    "    if not (n % i) : count += 1\n",
    "if (n == 0) or (n == 1) or (count >= 3) : print(n, \"is not a prime number.\")\n",
    "else: print(n, \"is a prime number\") n = int(input(\"Enter a number: \"))\n",
    "\n",
    "count = 0\n",
    "\n",
    "for i in range(1, n+1) :\n",
    "    if not (n % i) : count += 1\n",
    "if (n == 0) or (n == 1) or (count >= 3) : print(n, \"is not a prime number.\")\n",
    "else: print(n, \"is a prime number\") "
   ]
  }
 ],
 "metadata": {
  "language_info": {
   "codemirror_mode": {
    "name": "ipython",
    "version": 3
   },
   "file_extension": ".py",
   "mimetype": "text/x-python",
   "name": "python",
   "nbconvert_exporter": "python",
   "pygments_lexer": "ipython3",
   "version": 3
  },
  "orig_nbformat": 2
 },
 "nbformat": 4,
 "nbformat_minor": 2
}