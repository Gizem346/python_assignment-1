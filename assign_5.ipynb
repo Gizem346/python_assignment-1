{
 "cells": [
  {
   "cell_type": "code",
   "execution_count": null,
   "metadata": {},
   "outputs": [],
   "source": [
    "fib = []\n",
    "\n",
    "for i in range(-2, 10) :\n",
    "    if i < 0 : fib.append(1)\n",
    "    else : fib.append(fib[i] + fib[i + 1])\n",
    "print(fib)fib = []\n",
    "\n",
    "for i in range(-2, 10) :\n",
    "    if i < 0 : fib.append(1)\n",
    "    else : fib.append(fib[i] + fib[i + 1])\n",
    "print(fib)"
   ]
  }
 ],
 "metadata": {
  "language_info": {
   "codemirror_mode": {
    "name": "ipython",
    "version": 3
   },
   "file_extension": ".py",
   "mimetype": "text/x-python",
   "name": "python",
   "nbconvert_exporter": "python",
   "pygments_lexer": "ipython3",
   "version": 3
  },
  "orig_nbformat": 2
 },
 "nbformat": 4,
 "nbformat_minor": 2
}